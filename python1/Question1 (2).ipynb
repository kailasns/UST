{
 "cells": [
  {
   "cell_type": "code",
   "execution_count": 3,
   "id": "b3180e61",
   "metadata": {},
   "outputs": [
    {
     "name": "stdout",
     "output_type": "stream",
     "text": [
      "Count of all characters in file is :\n",
      " {'P': 8, 'y': 18, 't': 67, 'h': 26, 'o': 65, 'n': 73, 'i': 66, 's': 62, 'a': 80, 'g': 37, 'l': 45, 'e': 91, 'v': 6, 'r': 62, 'p': 30, 'u': 28, 'm': 25, 'I': 4, 'd': 39, 'z': 1, 'c': 41, 'b': 11, 'w': 10, 'f': 9, 'j': 4, 'G': 1, 'R': 1, 'k': 3, 'A': 1, 'B': 1, 'C': 1, 'U': 1}\n"
     ]
    },
    {
     "data": {
      "image/png": "[encoded data removed]",
      "text/plain": [
       "<Figure size 432x288 with 1 Axes>"
      ]
     },
     "metadata": {
      "needs_background": "light"
     },
     "output_type": "display_data"
    }
   ],
   "source": [
    "import matplotlib.pyplot as plt\n",
    "\n",
    "file = open(\"test.txt\", \"r\")   \n",
    "test_str = file.read()  \n",
    "all_freq = {}\n",
    "  \n",
    "for i in test_str:\n",
    "\n",
    "    if (i in all_freq) and (i.isalpha()) :\n",
    "     \n",
    "        all_freq[i] += 1\n",
    "    elif (i not in all_freq) and (i.isalpha()):\n",
    "        all_freq[i] = 1\n",
    "  \n",
    "# printing result \n",
    "print (\"Count of all characters in file is :\\n \"\n",
    "                                        +  str(all_freq))\n",
    "\n",
    "keysList = list(all_freq.keys())\n",
    "valueList = list(all_freq.values())\n",
    "#print(valueList)\n",
    "\n",
    "plt.bar(keysList, valueList)\n",
    "plt.title('Letter Vs Frequency')\n",
    "plt.xlabel('keysList')\n",
    "plt.ylabel('valueList')\n",
    "plt.show()\n"
   ]
  },
  {
   "cell_type": "code",
   "execution_count": null,
   "id": "b0d2a4d4",
   "metadata": {},
   "outputs": [],
   "source": []
  },
  {
   "cell_type": "code",
   "execution_count": null,
   "id": "05c85700",
   "metadata": {},
   "outputs": [],
   "source": []
  }
 ],
 "metadata": {
  "kernelspec": {
   "display_name": "Python 3 (ipykernel)",
   "language": "python",
   "name": "python3"
  },
  "language_info": {
   "codemirror_mode": {
    "name": "ipython",
    "version": 3
   },
   "file_extension": ".py",
   "mimetype": "text/x-python",
   "name": "python",
   "nbconvert_exporter": "python",
   "pygments_lexer": "ipython3",
   "version": "3.9.12"
  }
 },
 "nbformat": 4,
 "nbformat_minor": 5
}
