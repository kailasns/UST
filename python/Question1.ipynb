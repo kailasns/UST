{
 "cells": [
  {
   "cell_type": "code",
   "execution_count": null,
   "id": "dba35ef5",
   "metadata": {},
   "outputs": [],
   "source": [
    "import matplotlib.pyplot as plt\n",
    "\n",
    "file = open(\"test.txt\", \"r\")   \n",
    "test_str = file.read()  \n",
    "all_freq = {}\n",
    "  \n",
    "for i in test_str:\n",
    "\n",
    "    if (i in all_freq) and (i.isalpha()):\n",
    "     \n",
    "        all_freq[i] += 1\n",
    "    elif (i not in all_freq) and (i.isalpha()):\n",
    "        all_freq[i] = 1\n",
    "  \n",
    "# printing result \n",
    "print (\"Count of all characters in GeeksforGeeks is :\\n \"\n",
    "                                        +  str(all_freq))\n",
    "\n",
    "keysList = list(all_freq.keys())\n",
    "valueList = list(all_freq.values())\n",
    "#print(valueList)\n",
    "\n",
    "plt.bar(keysList, valueList)\n",
    "plt.title('Letter Vs Frequency')\n",
    "plt.xlabel('keysList')\n",
    "plt.ylabel('valueList')\n",
    "plt.show()\n"
   ]
  }
 ],
 "metadata": {
  "kernelspec": {
   "display_name": "Python 3 (ipykernel)",
   "language": "python",
   "name": "python3"
  },
  "language_info": {
   "codemirror_mode": {
    "name": "ipython",
    "version": 3
   },
   "file_extension": ".py",
   "mimetype": "text/x-python",
   "name": "python",
   "nbconvert_exporter": "python",
   "pygments_lexer": "ipython3",
   "version": "3.9.12"
  }
 },
 "nbformat": 4,
 "nbformat_minor": 5
}
